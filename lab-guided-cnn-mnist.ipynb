{
 "cells": [
  {
   "cell_type": "markdown",
   "metadata": {
    "id": "_K94I7aFLQ9S"
   },
   "source": [
    "# Guided lab : Image Classification using CNN\n",
    "\n",
    "At the end of this tutorial, you would get familiarized with\n",
    "\n",
    "*   Creating deep networks using Keras\n",
    "*   Steps necessary in training a neural network\n",
    "*   Prediction and performance analysis using neural networks\n",
    "\n",
    "---"
   ]
  },
  {
   "cell_type": "markdown",
   "metadata": {
    "id": "KdglSzOi4Cp-"
   },
   "source": [
    "# **Colaboratory environment**\n",
    "By default, Colab notebooks run on CPU.\n",
    "You can switch your notebook to run with GPU.\n",
    "\n",
    "In order to obtain access to the GPU, you need to choose the tab Runtime and then select “Change runtime type” as shown in the following figure:\n",
    "\n",
    "![Changing runtime](https://miro.medium.com/max/747/1*euE7nGZ0uJQcgvkpgvkoQg.png)\n",
    "\n",
    "When a pop-up window appears select GPU. \n",
    "\n",
    "**Ensure “Hardware accelerator” is set to GPU.**"
   ]
  },
  {
   "cell_type": "markdown",
   "metadata": {
    "id": "Zli14lxJ48BK"
   },
   "source": [
    "# **Environment set up**\n",
    "**Keras** is a Python library that provides, in a simple way, the creation of a wide range of Deep Learning models using as backend other libraries such as TensorFlow, Theano or CNTK **(We would use Tensorflow backend)**. \n",
    "\n",
    "Keras is used since its learning curve is very smooth compared to others, and at the moment it is one of the popular middleware to implement neural networks.\n",
    "\n",
    "The developer guides for Keras can be found at: https://keras.io/guides/"
   ]
  },
  {
   "cell_type": "code",
   "execution_count": 1,
   "metadata": {
    "colab": {
     "base_uri": "https://localhost:8080/"
    },
    "executionInfo": {
     "elapsed": 3686,
     "status": "ok",
     "timestamp": 1667911202240,
     "user": {
      "displayName": "Bhalaji Nagarajan",
      "userId": "08128536337584225726"
     },
     "user_tz": -60
    },
    "id": "P3BPaal61sjX",
    "outputId": "ea5139e2-1936-42f6-86f5-a6591e73ddda"
   },
   "outputs": [
    {
     "name": "stdout",
     "output_type": "stream",
     "text": [
      "2.10.0\n"
     ]
    }
   ],
   "source": [
    "from tensorflow import keras\n",
    "\n",
    "print(keras.__version__)"
   ]
  },
  {
   "cell_type": "markdown",
   "metadata": {
    "id": "I5slKBah5sLk"
   },
   "source": [
    "# **Understanding Data: MNIST Dataset**\n",
    "The MNIST dataset is an acronym that stands for the Modified National Institute of Standards and Technology dataset. \n",
    "\n",
    "It is a dataset of 60,000 small square 28×28 pixel grayscale images of handwritten single digits between 0 and 9.\n",
    "\n",
    "In Keras, the MNIST dataset is preloaded in the form of four Numpy arrays. x_train and y_train contain the training set, while x_test and y_test contain the test data. The images are encoded as Numpy arrays and their corresponding labels ranging from 0 to 9."
   ]
  },
  {
   "cell_type": "code",
   "execution_count": 2,
   "metadata": {
    "colab": {
     "base_uri": "https://localhost:8080/"
    },
    "executionInfo": {
     "elapsed": 2262,
     "status": "ok",
     "timestamp": 1667911204495,
     "user": {
      "displayName": "Bhalaji Nagarajan",
      "userId": "08128536337584225726"
     },
     "user_tz": -60
    },
    "id": "KWxUKDUf0N70",
    "outputId": "3d3eb986-2ef3-4208-d96e-871b975d4c95"
   },
   "outputs": [
    {
     "name": "stdout",
     "output_type": "stream",
     "text": [
      "(60000, 28, 28)\n",
      "3\n",
      "uint8\n",
      "(10000, 28, 28)\n"
     ]
    }
   ],
   "source": [
    "from tensorflow.keras.datasets import mnist\n",
    "(x_train, y_train), (x_test, y_test) = mnist.load_data()\n",
    "\n",
    "print(x_train.shape)\n",
    "print(x_train.ndim)\n",
    "print(x_train.dtype)\n",
    "\n",
    "print(x_test.shape)"
   ]
  },
  {
   "cell_type": "markdown",
   "metadata": {
    "id": "ibzTShLR-ZYv"
   },
   "source": [
    "## Visualizing the Data\n",
    "\n",
    "A plot of the first nine images in the dataset is created showing the natural handwritten nature of the images to be classified.\n",
    "\n",
    "**Let us create a 3*3 subplot to visualize the first 9 images of the dataset.** "
   ]
  },
  {
   "cell_type": "code",
   "execution_count": 3,
   "metadata": {
    "colab": {
     "base_uri": "https://localhost:8080/",
     "height": 268
    },
    "executionInfo": {
     "elapsed": 2351,
     "status": "ok",
     "timestamp": 1667911206843,
     "user": {
      "displayName": "Bhalaji Nagarajan",
      "userId": "08128536337584225726"
     },
     "user_tz": -60
    },
    "id": "o8VOg4ix0Yry",
    "outputId": "29949993-a0c4-4d2b-ffcb-64e7e32147bb"
   },
   "outputs": [
    {
     "data": {
      "image/png": "[encoded data removed]",
      "text/plain": [
       "<Figure size 640x480 with 9 Axes>"
      ]
     },
     "metadata": {},
     "output_type": "display_data"
    }
   ],
   "source": [
    "import matplotlib.pyplot as plt\n",
    "\n",
    "for i in range(9):\n",
    "\tplt.subplot(330 + 1 + i)\n",
    "\tplt.imshow(x_train[i], cmap=plt.get_cmap('gray'))\n",
    "plt.show()"
   ]
  },
  {
   "cell_type": "markdown",
   "metadata": {
    "id": "uGZkLxinEN6L"
   },
   "source": [
    "## Data normalization\n",
    "\n",
    "The pixel values for each image in the dataset are unsigned integers in the range between black and white, or 0 and 255.\n",
    "\n",
    "**Let us normalize the pixel values of grayscale images, e.g. rescale them to the range [0,1].**\n",
    "\n",
    "*Hint: 'astype' is a numpy function that could be used to cast the numpy array to a specified type*"
   ]
  },
  {
   "cell_type": "code",
   "execution_count": 4,
   "metadata": {
    "colab": {
     "base_uri": "https://localhost:8080/"
    },
    "executionInfo": {
     "elapsed": 27,
     "status": "ok",
     "timestamp": 1667911206844,
     "user": {
      "displayName": "Bhalaji Nagarajan",
      "userId": "08128536337584225726"
     },
     "user_tz": -60
    },
    "id": "iODdnwlH0xyw",
    "outputId": "efa69997-f582-42b4-acb7-485eebd2c334"
   },
   "outputs": [
    {
     "name": "stdout",
     "output_type": "stream",
     "text": [
      "(60000, 28, 28)\n",
      "(10000, 28, 28)\n"
     ]
    }
   ],
   "source": [
    "x_train = x_train.astype(\"float32\") / 255\n",
    "x_test = x_test.astype(\"float32\") / 255\n",
    "\n",
    "print(x_train.shape)\n",
    "print(x_test.shape)"
   ]
  },
  {
   "cell_type": "markdown",
   "metadata": {
    "id": "-AK7-4arKNF9"
   },
   "source": [
    "## Preparing data\n",
    "The images are all pre-aligned (e.g. each image only contains a hand-drawn digit) and they have the same square size of 28×28 pixels. Also, the images are grayscale. Therefore, we can load the images and reshape the data arrays to have a 1D vector data.\n",
    "\n",
    "*Note that this data preparation is not applicable for all networks*\n",
    "\n",
    "**Let us reshape the images as a 1D vector.**"
   ]
  },
  {
   "cell_type": "code",
   "execution_count": 5,
   "metadata": {
    "colab": {
     "base_uri": "https://localhost:8080/"
    },
    "executionInfo": {
     "elapsed": 17,
     "status": "ok",
     "timestamp": 1667911206844,
     "user": {
      "displayName": "Bhalaji Nagarajan",
      "userId": "08128536337584225726"
     },
     "user_tz": -60
    },
    "id": "mQWNj20I0_-w",
    "outputId": "33462816-0307-4d36-8f47-3b682f514bd9"
   },
   "outputs": [
    {
     "name": "stdout",
     "output_type": "stream",
     "text": [
      "(60000, 784)\n",
      "(10000, 784)\n"
     ]
    }
   ],
   "source": [
    "x_train = x_train.reshape(60000, 784)\n",
    "x_test = x_test.reshape(10000, 784)\n",
    "\n",
    "print(x_train.shape)\n",
    "print(x_test.shape)"
   ]
  },
  {
   "cell_type": "markdown",
   "metadata": {
    "id": "3yNN4gs-LOmS"
   },
   "source": [
    "## Preparing labels\n",
    "\n",
    "The labels for each input data (remember that in our case they are numbers between 0 and 9) indicate which digit represents the image, that is, to which class it is associated. \n",
    "\n",
    "In this case, we will represent this label with a vector of 10 positions, where the position corresponding to the digit that represents the image contains a 1 and the remaining positions of the vector contain the value 0. This is known as **one-hot encoding.**\n",
    "\n",
    "**Let us convert the labels into the equivalent one-hot encoded form.**\n",
    "\n",
    "*Hint: keras.utils.to_categorical could be used to convert an integer vector to a binary class matrix.*"
   ]
  },
  {
   "cell_type": "code",
   "execution_count": 6,
   "metadata": {
    "colab": {
     "base_uri": "https://localhost:8080/"
    },
    "executionInfo": {
     "elapsed": 13,
     "status": "ok",
     "timestamp": 1667911206845,
     "user": {
      "displayName": "Bhalaji Nagarajan",
      "userId": "08128536337584225726"
     },
     "user_tz": -60
    },
    "id": "hRBa1_PA1KBX",
    "outputId": "4cdebfba-91f1-4384-80b8-c1d9afdc1cce"
   },
   "outputs": [
    {
     "name": "stdout",
     "output_type": "stream",
     "text": [
      "(60000, 10)\n",
      "(10000, 10)\n"
     ]
    }
   ],
   "source": [
    "from tensorflow.keras.utils import to_categorical\n",
    "\n",
    "y_train = to_categorical(y_train, num_classes=10)\n",
    "y_test = to_categorical(y_test, num_classes=10)\n",
    "\n",
    "print(y_train.shape)\n",
    "print(y_test.shape)"
   ]
  },
  {
   "cell_type": "markdown",
   "metadata": {
    "id": "dfEBWzOpOmP7"
   },
   "source": [
    "# **Defining Model**\n",
    "\n",
    "The Sequential class of the Keras library is a wrapper for the sequential neural network model. In this case, the model in Keras is considered as a sequence of layers and each of them gradually “distills” the input data to obtain the desired output. \n",
    "\n",
    "In Keras we can find all the required types of layers that can be easily added to the model through the add() method. \n",
    "\n",
    "Below snippet shows a simple network with a single dense layer. \n",
    "\n",
    "*Note that the input information has to be defined in the first layer of the model.* "
   ]
  },
  {
   "cell_type": "code",
   "execution_count": 7,
   "metadata": {
    "executionInfo": {
     "elapsed": 2911,
     "status": "ok",
     "timestamp": 1667911209748,
     "user": {
      "displayName": "Bhalaji Nagarajan",
      "userId": "08128536337584225726"
     },
     "user_tz": -60
    },
    "id": "KjW4xAFaP1KG"
   },
   "outputs": [
    {
     "name": "stdout",
     "output_type": "stream",
     "text": [
      "Metal device set to: Apple M4\n",
      "\n",
      "systemMemory: 16.00 GB\n",
      "maxCacheSize: 5.33 GB\n",
      "\n"
     ]
    },
    {
     "name": "stderr",
     "output_type": "stream",
     "text": [
      "2025-07-12 12:27:27.694785: I tensorflow/core/common_runtime/pluggable_device/pluggable_device_factory.cc:306] Could not identify NUMA node of platform GPU ID 0, defaulting to 0. Your kernel may not have been built with NUMA support.\n",
      "2025-07-12 12:27:27.694891: I tensorflow/core/common_runtime/pluggable_device/pluggable_device_factory.cc:272] Created TensorFlow device (/job:localhost/replica:0/task:0/device:GPU:0 with 0 MB memory) -> physical PluggableDevice (device: 0, name: METAL, pci bus id: <undefined>)\n"
     ]
    }
   ],
   "source": [
    "from tensorflow.keras.models import Sequential\n",
    "from tensorflow.keras.layers import Dense, Activation\n",
    "\n",
    "model = Sequential()\n",
    "model.add(Dense(10, input_dim=784))\n",
    "model.add(Activation('relu'))"
   ]
  },
  {
   "cell_type": "markdown",
   "metadata": {
    "id": "wqxvLQf6QSv1"
   },
   "source": [
    "The architecture of the model can be checked using the function **summary()** available in the model class. Note that the summary returns the layer information along with the output shape for each layer and the number of parameters that needs to be trained.\n",
    "\n",
    "In this simple example, it indicates that 7,850 parameters are required (column Param #). In the first layer, for each neuron i (between 0 and 9) we require 784 parameters for the weights wij and therefore 10×784 parameters to store the weights of the 10 neurons. In addition to that 10 additional parameters for the 10 bj biases corresponding to each one of them.\n",
    "\n",
    "The non-trainable parameters of a model are those that will not be updating and optimized during training, and that have to be defined a priori, or passed as inputs. "
   ]
  },
  {
   "cell_type": "code",
   "execution_count": 8,
   "metadata": {
    "colab": {
     "base_uri": "https://localhost:8080/"
    },
    "executionInfo": {
     "elapsed": 14,
     "status": "ok",
     "timestamp": 1667911209748,
     "user": {
      "displayName": "Bhalaji Nagarajan",
      "userId": "08128536337584225726"
     },
     "user_tz": -60
    },
    "id": "8mktMmmURAfb",
    "outputId": "5c0083b1-9029-4993-bb01-e596ea4243db"
   },
   "outputs": [
    {
     "name": "stdout",
     "output_type": "stream",
     "text": [
      "Model: \"sequential\"\n",
      "_________________________________________________________________\n",
      " Layer (type)                Output Shape              Param #   \n",
      "=================================================================\n",
      " dense (Dense)               (None, 10)                7850      \n",
      "                                                                 \n",
      " activation (Activation)     (None, 10)                0         \n",
      "                                                                 \n",
      "=================================================================\n",
      "Total params: 7,850\n",
      "Trainable params: 7,850\n",
      "Non-trainable params: 0\n",
      "_________________________________________________________________\n"
     ]
    }
   ],
   "source": [
    "model.summary()"
   ]
  },
  {
   "cell_type": "markdown",
   "metadata": {
    "id": "sqHk3fztYFjs"
   },
   "source": [
    "# Compiling models\n",
    "\n",
    "Before training a model, we need to configure the learning process, which is done via the compile method. It receives three arguments:\n",
    "\n",
    "*   Loss function\n",
    "*   Optimizer\n",
    "*   Metrics\n",
    "\n",
    "**Hint: Learn the commonly used loss functions and optimizers available in Keras documentation.**"
   ]
  },
  {
   "cell_type": "code",
   "execution_count": 9,
   "metadata": {
    "executionInfo": {
     "elapsed": 3,
     "status": "ok",
     "timestamp": 1667911209748,
     "user": {
      "displayName": "Bhalaji Nagarajan",
      "userId": "08128536337584225726"
     },
     "user_tz": -60
    },
    "id": "aVdNIBmv102V"
   },
   "outputs": [],
   "source": [
    "model.compile(loss='categorical_crossentropy',\n",
    "              optimizer='sgd',\n",
    "              metrics = ['accuracy'])"
   ]
  },
  {
   "cell_type": "markdown",
   "metadata": {
    "id": "ktS7_-13ZSfp"
   },
   "source": [
    "## Training models\n",
    "\n",
    "Keras models are trained on Numpy arrays of input data and labels. For training a model, we will typically use the fit function."
   ]
  },
  {
   "cell_type": "code",
   "execution_count": 10,
   "metadata": {
    "colab": {
     "base_uri": "https://localhost:8080/"
    },
    "executionInfo": {
     "elapsed": 4522,
     "status": "ok",
     "timestamp": 1667911571874,
     "user": {
      "displayName": "Bhalaji Nagarajan",
      "userId": "08128536337584225726"
     },
     "user_tz": -60
    },
    "id": "gCpox6Oa19c9",
    "outputId": "7a4b0450-d509-4055-fbde-5f1c7efed2f4"
   },
   "outputs": [
    {
     "name": "stdout",
     "output_type": "stream",
     "text": [
      "Epoch 1/5\n"
     ]
    },
    {
     "name": "stderr",
     "output_type": "stream",
     "text": [
      "2025-07-12 12:27:27.884331: W tensorflow/core/platform/profile_utils/cpu_utils.cc:128] Failed to get CPU frequency: 0 Hz\n",
      "2025-07-12 12:27:27.987704: I tensorflow/core/grappler/optimizers/custom_graph_optimizer_registry.cc:114] Plugin optimizer for device_type GPU is enabled.\n"
     ]
    },
    {
     "name": "stdout",
     "output_type": "stream",
     "text": [
      "59/59 [==============================] - 1s 5ms/step - loss: 0.2088 - accuracy: 0.0984\n",
      "Epoch 2/5\n",
      "59/59 [==============================] - 0s 4ms/step - loss: 1.1921e-07 - accuracy: 0.0987\n",
      "Epoch 3/5\n",
      "59/59 [==============================] - 0s 4ms/step - loss: 1.1921e-07 - accuracy: 0.0987\n",
      "Epoch 4/5\n",
      "59/59 [==============================] - 0s 4ms/step - loss: 1.1921e-07 - accuracy: 0.0987\n",
      "Epoch 5/5\n",
      "59/59 [==============================] - 0s 5ms/step - loss: 1.1921e-07 - accuracy: 0.0987\n"
     ]
    }
   ],
   "source": [
    "history = model.fit(x_train, y_train, batch_size=1024, epochs=5)"
   ]
  },
  {
   "cell_type": "markdown",
   "metadata": {
    "id": "ViagI49FvTmo"
   },
   "source": [
    "## History Callback\n",
    "\n",
    "A callback is a set of functions to be applied at given stages of the training procedure. It can be used to get a view on internal states and statistics of the model during training. There are several callbacks are available in Keras and they are passed as a list of callbacks to the .fit() method.\n",
    "\n",
    "The History object gets returned by the fit method of models and is automatically applied to every Keras model."
   ]
  },
  {
   "cell_type": "code",
   "execution_count": 11,
   "metadata": {
    "colab": {
     "base_uri": "https://localhost:8080/"
    },
    "executionInfo": {
     "elapsed": 4,
     "status": "ok",
     "timestamp": 1667911577443,
     "user": {
      "displayName": "Bhalaji Nagarajan",
      "userId": "08128536337584225726"
     },
     "user_tz": -60
    },
    "id": "bPsnRowdMT1P",
    "outputId": "625c243e-348f-45f1-9d56-3a5f77afe431"
   },
   "outputs": [
    {
     "name": "stdout",
     "output_type": "stream",
     "text": [
      "dict_keys(['loss', 'accuracy'])\n"
     ]
    }
   ],
   "source": [
    "print(history.history.keys())"
   ]
  },
  {
   "cell_type": "code",
   "execution_count": 12,
   "metadata": {
    "colab": {
     "base_uri": "https://localhost:8080/"
    },
    "executionInfo": {
     "elapsed": 3,
     "status": "ok",
     "timestamp": 1667911579844,
     "user": {
      "displayName": "Bhalaji Nagarajan",
      "userId": "08128536337584225726"
     },
     "user_tz": -60
    },
    "id": "sJFu3XH8nV6G",
    "outputId": "03358a6d-0354-4c32-935b-03b73c295c35"
   },
   "outputs": [
    {
     "name": "stdout",
     "output_type": "stream",
     "text": [
      "[0.20880569517612457, 1.1920928955078125e-07, 1.1920928955078125e-07, 1.1920928955078125e-07, 1.1920928955078125e-07]\n",
      "[0.09836667031049728, 0.09871666878461838, 0.09871666878461838, 0.09871666878461838, 0.09871666878461838]\n"
     ]
    }
   ],
   "source": [
    "print(history.history['loss']) # returns the loss value at the end of each epoch\n",
    "print(history.history['accuracy']) # returns the accuracy at the end of each epoch"
   ]
  },
  {
   "cell_type": "markdown",
   "metadata": {
    "id": "leHvxD0twlKs"
   },
   "source": [
    "**Let us plot the loss values and the accuracy values as a 2 x 1 plot.**\n",
    "\n",
    "Note that the loss term decreases and the accuracy increases with respect to the epochs."
   ]
  },
  {
   "cell_type": "code",
   "execution_count": 13,
   "metadata": {
    "colab": {
     "base_uri": "https://localhost:8080/",
     "height": 281
    },
    "executionInfo": {
     "elapsed": 671,
     "status": "ok",
     "timestamp": 1667911582483,
     "user": {
      "displayName": "Bhalaji Nagarajan",
      "userId": "08128536337584225726"
     },
     "user_tz": -60
    },
    "id": "lX6vd-n7wjmd",
    "outputId": "9d150af3-f6a1-42a7-92e5-894854dfe3dd"
   },
   "outputs": [
    {
     "data": {
      "image/png": "[encoded data removed]",
      "text/plain": [
       "<Figure size 640x480 with 2 Axes>"
      ]
     },
     "metadata": {},
     "output_type": "display_data"
    }
   ],
   "source": [
    "plt.subplot(211)\n",
    "plt.title('Cross Entropy Loss')\n",
    "plt.plot(history.history['loss'], color='blue', label='train')\n",
    "\n",
    "plt.subplot(212)\n",
    "plt.title('Classification Accuracy')\n",
    "plt.plot(history.history['accuracy'], color='green', label='train')\n",
    "plt.show()"
   ]
  },
  {
   "cell_type": "markdown",
   "metadata": {
    "id": "Pk0HXuQxaNvS"
   },
   "source": [
    "# **Model evaluation**\n",
    "\n",
    "## Accuracy\n",
    "\n",
    "After training the model, the network has to be evaluated with new test data. This can be achieved by using the evaluate() method.\n",
    "\n",
    "**Let us print the test accuracy of the network.**"
   ]
  },
  {
   "cell_type": "code",
   "execution_count": 14,
   "metadata": {
    "colab": {
     "base_uri": "https://localhost:8080/"
    },
    "executionInfo": {
     "elapsed": 1747,
     "status": "ok",
     "timestamp": 1667911595319,
     "user": {
      "displayName": "Bhalaji Nagarajan",
      "userId": "08128536337584225726"
     },
     "user_tz": -60
    },
    "id": "1Xmdv_Ql3UbR",
    "outputId": "10f4ab3e-162a-4ed6-b6dd-3e363e952915"
   },
   "outputs": [
    {
     "name": "stdout",
     "output_type": "stream",
     "text": [
      " 37/313 [==>...........................] - ETA: 0s - loss: 1.1921e-07 - accuracy: 0.0811"
     ]
    },
    {
     "name": "stderr",
     "output_type": "stream",
     "text": [
      "2025-07-12 12:27:29.578842: I tensorflow/core/grappler/optimizers/custom_graph_optimizer_registry.cc:114] Plugin optimizer for device_type GPU is enabled.\n"
     ]
    },
    {
     "name": "stdout",
     "output_type": "stream",
     "text": [
      "313/313 [==============================] - 1s 3ms/step - loss: 1.1921e-07 - accuracy: 0.0980\n",
      "Test loss: 1.1920928955078125e-07\n",
      "Test accuracy: 0.09799999743700027\n"
     ]
    }
   ],
   "source": [
    "test_loss, test_acc = model.evaluate(x_test, y_test)\n",
    "print('Test loss:', test_loss)\n",
    "print('Test accuracy:', test_acc)"
   ]
  },
  {
   "cell_type": "markdown",
   "metadata": {
    "id": "7FWrHB8S5-Pb"
   },
   "source": [
    "## Confusion matrix\n",
    "\n",
    "Note that accuracy is the ratio between the correct predictions that the model has made over the total predictions regardless of what category it is. However, it is necessary to delve a little more and take into account the types of correct and incorrect predictions made by the model in each of its categories.\n",
    "\n",
    "For this purpose, a confusion matrix is used. It is a table with rows and columns that count the predictions in comparison with the real values. This is used to better understand how well the model behaves and it is very useful to show explicitly when one class is confused with another.\n",
    "\n",
    "**Hint:**\n",
    "1.   predict() is used to predict the output for the input samples.\n",
    "2.   confusion_matrix is available in sklearn.metrics"
   ]
  },
  {
   "cell_type": "code",
   "execution_count": 15,
   "metadata": {
    "colab": {
     "base_uri": "https://localhost:8080/"
    },
    "executionInfo": {
     "elapsed": 1125,
     "status": "ok",
     "timestamp": 1667911601209,
     "user": {
      "displayName": "Bhalaji Nagarajan",
      "userId": "08128536337584225726"
     },
     "user_tz": -60
    },
    "id": "RXwGXfi6i2qm",
    "outputId": "a8127473-f3f4-45ed-b1c4-8aec5b37e71b"
   },
   "outputs": [
    {
     "name": "stdout",
     "output_type": "stream",
     "text": [
      "159/313 [==============>...............] - ETA: 0s"
     ]
    },
    {
     "name": "stderr",
     "output_type": "stream",
     "text": [
      "2025-07-12 12:27:30.502102: I tensorflow/core/grappler/optimizers/custom_graph_optimizer_registry.cc:114] Plugin optimizer for device_type GPU is enabled.\n"
     ]
    },
    {
     "name": "stdout",
     "output_type": "stream",
     "text": [
      "313/313 [==============================] - 0s 965us/step\n"
     ]
    }
   ],
   "source": [
    "predictions = model.predict(x_test)"
   ]
  },
  {
   "cell_type": "markdown",
   "metadata": {
    "id": "FKjrVaeeDyEL"
   },
   "source": [
    "It has to be noted that the predictions is the probability of the input belonging to any one of the class."
   ]
  },
  {
   "cell_type": "code",
   "execution_count": 16,
   "metadata": {
    "colab": {
     "base_uri": "https://localhost:8080/"
    },
    "executionInfo": {
     "elapsed": 414,
     "status": "ok",
     "timestamp": 1667911605201,
     "user": {
      "displayName": "Bhalaji Nagarajan",
      "userId": "08128536337584225726"
     },
     "user_tz": -60
    },
    "id": "p7fyPS7LD058",
    "outputId": "c29b39ff-4db3-42cc-85ba-e755d67c1d1d"
   },
   "outputs": [
    {
     "name": "stdout",
     "output_type": "stream",
     "text": [
      "[0. 0. 0. 0. 0. 0. 0. 0. 0. 0.]\n"
     ]
    }
   ],
   "source": [
    "print(predictions[0])"
   ]
  },
  {
   "cell_type": "markdown",
   "metadata": {
    "id": "CIvCcFe0EKFE"
   },
   "source": [
    "**Now, let us convert the probability distribution to get single output for each input. For this, we would take the maximum probability score.**"
   ]
  },
  {
   "cell_type": "code",
   "execution_count": 17,
   "metadata": {
    "executionInfo": {
     "elapsed": 2,
     "status": "ok",
     "timestamp": 1667911605201,
     "user": {
      "displayName": "Bhalaji Nagarajan",
      "userId": "08128536337584225726"
     },
     "user_tz": -60
    },
    "id": "wFAtFDzOlFXn"
   },
   "outputs": [],
   "source": [
    "import numpy as np\n",
    "predictions = np.argmax(predictions, axis=1)"
   ]
  },
  {
   "cell_type": "code",
   "execution_count": 18,
   "metadata": {
    "executionInfo": {
     "elapsed": 4,
     "status": "ok",
     "timestamp": 1667911606342,
     "user": {
      "displayName": "Bhalaji Nagarajan",
      "userId": "08128536337584225726"
     },
     "user_tz": -60
    },
    "id": "EApByl7wlk5a"
   },
   "outputs": [],
   "source": [
    "from sklearn.metrics import confusion_matrix\n",
    "gt = np.argmax(y_test, axis=1)"
   ]
  },
  {
   "cell_type": "markdown",
   "metadata": {
    "id": "uZR9oEl-E4yD"
   },
   "source": [
    "**Now, we will use the confusion matrix function to get the table for all the 10 classes.**"
   ]
  },
  {
   "cell_type": "code",
   "execution_count": 19,
   "metadata": {
    "colab": {
     "base_uri": "https://localhost:8080/"
    },
    "executionInfo": {
     "elapsed": 3,
     "status": "ok",
     "timestamp": 1667911609436,
     "user": {
      "displayName": "Bhalaji Nagarajan",
      "userId": "08128536337584225726"
     },
     "user_tz": -60
    },
    "id": "SMyihJtbmVQO",
    "outputId": "771446e0-e0e6-4952-8a45-3155597f914d"
   },
   "outputs": [
    {
     "data": {
      "text/plain": [
       "array([[ 980,    0,    0,    0,    0,    0,    0,    0,    0,    0],\n",
       "       [1135,    0,    0,    0,    0,    0,    0,    0,    0,    0],\n",
       "       [1032,    0,    0,    0,    0,    0,    0,    0,    0,    0],\n",
       "       [1010,    0,    0,    0,    0,    0,    0,    0,    0,    0],\n",
       "       [ 982,    0,    0,    0,    0,    0,    0,    0,    0,    0],\n",
       "       [ 892,    0,    0,    0,    0,    0,    0,    0,    0,    0],\n",
       "       [ 958,    0,    0,    0,    0,    0,    0,    0,    0,    0],\n",
       "       [1028,    0,    0,    0,    0,    0,    0,    0,    0,    0],\n",
       "       [ 974,    0,    0,    0,    0,    0,    0,    0,    0,    0],\n",
       "       [1009,    0,    0,    0,    0,    0,    0,    0,    0,    0]])"
      ]
     },
     "execution_count": 19,
     "metadata": {},
     "output_type": "execute_result"
    }
   ],
   "source": [
    "confusion_matrix(gt, predictions)"
   ]
  },
  {
   "cell_type": "markdown",
   "metadata": {
    "id": "UPmsnSf7oJEO"
   },
   "source": [
    "# **Defining different models**\n",
    "\n",
    "In the previous example, we designed a neural network with just dense layers. But in practice, the deep networks are more wider and deeper.\n",
    "\n",
    "When we define a model, the shallow layers learn the low level features such as edges and as the networks go deeper, the network learns the high level features. \n",
    "The model, in general, has two main aspects: the feature extraction front end comprised of convolutional and pooling layers, and the classifier backend that will make a prediction.\n",
    "\n",
    "**Define the following model:** \n",
    "\n",
    "**For the convolutional front-end, start with a single convolutional layer with a small filter size (3,3) and a modest number of filters (32) followed by a max pooling layer. Use the input as (28,28,1) instead of (784,). The filter maps can then be flattened to provide features to the classifier. Use a dense layer with 100 units before the classification layer (which is also a dense layer with softmax activation).**\n",
    "\n",
    "*Hint: Conv2D, MaxPooling2D, Flatten, Dense and other layers can be obtained by importing keras.layer*"
   ]
  },
  {
   "cell_type": "code",
   "execution_count": 20,
   "metadata": {
    "executionInfo": {
     "elapsed": 434,
     "status": "ok",
     "timestamp": 1667911614333,
     "user": {
      "displayName": "Bhalaji Nagarajan",
      "userId": "08128536337584225726"
     },
     "user_tz": -60
    },
    "id": "1jZHNMZCn-ps"
   },
   "outputs": [],
   "source": [
    "from keras.layers import Conv2D, MaxPooling2D, Flatten, Dense\n",
    "model = Sequential()\n",
    "model.add(Conv2D(32, (3, 3), activation='relu', kernel_initializer='he_uniform', input_shape=(28, 28, 1)))\n",
    "model.add(MaxPooling2D((2, 2)))\n",
    "model.add(Flatten())\n",
    "model.add(Dense(100, activation='relu', kernel_initializer='he_uniform'))\n",
    "model.add(Dense(10, activation='softmax'))"
   ]
  },
  {
   "cell_type": "markdown",
   "metadata": {
    "id": "fO3aLXZUJQe1"
   },
   "source": [
    "**Let us check the architecture using summary().**"
   ]
  },
  {
   "cell_type": "code",
   "execution_count": 21,
   "metadata": {
    "colab": {
     "base_uri": "https://localhost:8080/"
    },
    "executionInfo": {
     "elapsed": 13,
     "status": "ok",
     "timestamp": 1667911614961,
     "user": {
      "displayName": "Bhalaji Nagarajan",
      "userId": "08128536337584225726"
     },
     "user_tz": -60
    },
    "id": "6Y0CAn2DJWec",
    "outputId": "f5e95059-8702-4f02-b681-2c589b262b39"
   },
   "outputs": [
    {
     "name": "stdout",
     "output_type": "stream",
     "text": [
      "Model: \"sequential_1\"\n",
      "_________________________________________________________________\n",
      " Layer (type)                Output Shape              Param #   \n",
      "=================================================================\n",
      " conv2d (Conv2D)             (None, 26, 26, 32)        320       \n",
      "                                                                 \n",
      " max_pooling2d (MaxPooling2D  (None, 13, 13, 32)       0         \n",
      " )                                                               \n",
      "                                                                 \n",
      " flatten (Flatten)           (None, 5408)              0         \n",
      "                                                                 \n",
      " dense_1 (Dense)             (None, 100)               540900    \n",
      "                                                                 \n",
      " dense_2 (Dense)             (None, 10)                1010      \n",
      "                                                                 \n",
      "=================================================================\n",
      "Total params: 542,230\n",
      "Trainable params: 542,230\n",
      "Non-trainable params: 0\n",
      "_________________________________________________________________\n"
     ]
    }
   ],
   "source": [
    "model.summary()"
   ]
  },
  {
   "cell_type": "markdown",
   "metadata": {
    "id": "SKsSmt7wJa83"
   },
   "source": [
    "**Compile the model.**"
   ]
  },
  {
   "cell_type": "code",
   "execution_count": 22,
   "metadata": {
    "executionInfo": {
     "elapsed": 2,
     "status": "ok",
     "timestamp": 1667911617274,
     "user": {
      "displayName": "Bhalaji Nagarajan",
      "userId": "08128536337584225726"
     },
     "user_tz": -60
    },
    "id": "u3fm1gyXor98"
   },
   "outputs": [],
   "source": [
    "model.compile(optimizer='sgd', loss='categorical_crossentropy', metrics=['accuracy'])"
   ]
  },
  {
   "cell_type": "markdown",
   "metadata": {
    "id": "oesI8fU5KPik"
   },
   "source": [
    "**Reshape the input of the mnist dataset to the new input dimensions (28, 28, 1).**"
   ]
  },
  {
   "cell_type": "code",
   "execution_count": 23,
   "metadata": {
    "colab": {
     "base_uri": "https://localhost:8080/"
    },
    "executionInfo": {
     "elapsed": 421,
     "status": "ok",
     "timestamp": 1667911621326,
     "user": {
      "displayName": "Bhalaji Nagarajan",
      "userId": "08128536337584225726"
     },
     "user_tz": -60
    },
    "id": "UNECu5UvpT4f",
    "outputId": "c4993416-c5e8-4121-c79a-b0d7817693c1"
   },
   "outputs": [
    {
     "name": "stdout",
     "output_type": "stream",
     "text": [
      "(60000, 28, 28)\n",
      "3\n",
      "uint8\n",
      "(10000, 28, 28)\n",
      "After reshaping:\n",
      "(60000, 28, 28, 1)\n",
      "4\n",
      "float32\n",
      "(10000, 28, 28, 1)\n",
      "(60000, 10)\n",
      "(10000, 10)\n"
     ]
    }
   ],
   "source": [
    "from tensorflow.keras.datasets import mnist\n",
    "from tensorflow.keras.utils import to_categorical\n",
    "\n",
    "(x_train, y_train), (x_test, y_test) = mnist.load_data()\n",
    "\n",
    "print(x_train.shape)\n",
    "print(x_train.ndim)\n",
    "print(x_train.dtype)\n",
    "print(x_test.shape)\n",
    "\n",
    "x_train = x_train.astype(\"float32\") / 255\n",
    "x_test = x_test.astype(\"float32\") / 255\n",
    "\n",
    "print('After reshaping:')\n",
    "\n",
    "x_train = np.expand_dims(x_train, -1)\n",
    "x_test = np.expand_dims(x_test, -1)\n",
    "\n",
    "print(x_train.shape)\n",
    "print(x_train.ndim)\n",
    "print(x_train.dtype)\n",
    "print(x_test.shape)\n",
    "\n",
    "y_train = to_categorical(y_train, num_classes=10)\n",
    "y_test = to_categorical(y_test, num_classes=10)\n",
    "\n",
    "print(y_train.shape)\n",
    "print(y_test.shape)"
   ]
  },
  {
   "cell_type": "markdown",
   "metadata": {
    "id": "ALGpoYHkKmda"
   },
   "source": [
    "**Train the model for 10 epochs with a batch size of 100.**"
   ]
  },
  {
   "cell_type": "code",
   "execution_count": 24,
   "metadata": {
    "colab": {
     "base_uri": "https://localhost:8080/"
    },
    "executionInfo": {
     "elapsed": 22133,
     "status": "ok",
     "timestamp": 1667911647884,
     "user": {
      "displayName": "Bhalaji Nagarajan",
      "userId": "08128536337584225726"
     },
     "user_tz": -60
    },
    "id": "e_aADgN6o8da",
    "outputId": "41341445-9886-43f2-e0ce-43ad1420ea15"
   },
   "outputs": [
    {
     "name": "stdout",
     "output_type": "stream",
     "text": [
      "Epoch 1/25\n",
      " 1/53 [..............................] - ETA: 12s - loss: 2.5429 - accuracy: 0.1396"
     ]
    },
    {
     "name": "stderr",
     "output_type": "stream",
     "text": [
      "2025-07-12 12:27:31.750491: I tensorflow/core/grappler/optimizers/custom_graph_optimizer_registry.cc:114] Plugin optimizer for device_type GPU is enabled.\n"
     ]
    },
    {
     "name": "stdout",
     "output_type": "stream",
     "text": [
      "53/53 [==============================] - 2s 27ms/step - loss: 0.9501 - accuracy: 0.7497 - val_loss: 0.4589 - val_accuracy: 0.8972\n",
      "Epoch 2/25\n",
      " 1/53 [..............................] - ETA: 1s - loss: 0.5488 - accuracy: 0.8633"
     ]
    },
    {
     "name": "stderr",
     "output_type": "stream",
     "text": [
      "2025-07-12 12:27:33.135311: I tensorflow/core/grappler/optimizers/custom_graph_optimizer_registry.cc:114] Plugin optimizer for device_type GPU is enabled.\n"
     ]
    },
    {
     "name": "stdout",
     "output_type": "stream",
     "text": [
      "53/53 [==============================] - 1s 23ms/step - loss: 0.4673 - accuracy: 0.8791 - val_loss: 0.3474 - val_accuracy: 0.9138\n",
      "Epoch 3/25\n",
      "53/53 [==============================] - 1s 22ms/step - loss: 0.3867 - accuracy: 0.8955 - val_loss: 0.2953 - val_accuracy: 0.9238\n",
      "Epoch 4/25\n",
      "53/53 [==============================] - 1s 23ms/step - loss: 0.3471 - accuracy: 0.9052 - val_loss: 0.2679 - val_accuracy: 0.9303\n",
      "Epoch 5/25\n",
      "53/53 [==============================] - 1s 22ms/step - loss: 0.3212 - accuracy: 0.9107 - val_loss: 0.2502 - val_accuracy: 0.9337\n",
      "Epoch 6/25\n",
      "53/53 [==============================] - 1s 22ms/step - loss: 0.3019 - accuracy: 0.9161 - val_loss: 0.2368 - val_accuracy: 0.9352\n",
      "Epoch 7/25\n",
      "53/53 [==============================] - 1s 22ms/step - loss: 0.2869 - accuracy: 0.9203 - val_loss: 0.2254 - val_accuracy: 0.9385\n",
      "Epoch 8/25\n",
      "53/53 [==============================] - 1s 23ms/step - loss: 0.2742 - accuracy: 0.9235 - val_loss: 0.2160 - val_accuracy: 0.9397\n",
      "Epoch 9/25\n",
      "53/53 [==============================] - 1s 23ms/step - loss: 0.2634 - accuracy: 0.9263 - val_loss: 0.2072 - val_accuracy: 0.9433\n",
      "Epoch 10/25\n",
      "53/53 [==============================] - 1s 22ms/step - loss: 0.2540 - accuracy: 0.9293 - val_loss: 0.2006 - val_accuracy: 0.9458\n",
      "Epoch 11/25\n",
      "53/53 [==============================] - 1s 22ms/step - loss: 0.2456 - accuracy: 0.9314 - val_loss: 0.1942 - val_accuracy: 0.9483\n",
      "Epoch 12/25\n",
      "53/53 [==============================] - 1s 22ms/step - loss: 0.2380 - accuracy: 0.9340 - val_loss: 0.1876 - val_accuracy: 0.9497\n",
      "Epoch 13/25\n",
      "53/53 [==============================] - 1s 22ms/step - loss: 0.2309 - accuracy: 0.9358 - val_loss: 0.1844 - val_accuracy: 0.9500\n",
      "Epoch 14/25\n",
      "53/53 [==============================] - 1s 22ms/step - loss: 0.2243 - accuracy: 0.9370 - val_loss: 0.1785 - val_accuracy: 0.9523\n",
      "Epoch 15/25\n",
      "53/53 [==============================] - 1s 22ms/step - loss: 0.2185 - accuracy: 0.9387 - val_loss: 0.1764 - val_accuracy: 0.9530\n",
      "Epoch 16/25\n",
      "53/53 [==============================] - 1s 22ms/step - loss: 0.2132 - accuracy: 0.9399 - val_loss: 0.1698 - val_accuracy: 0.9550\n",
      "Epoch 17/25\n",
      "53/53 [==============================] - 1s 22ms/step - loss: 0.2079 - accuracy: 0.9415 - val_loss: 0.1662 - val_accuracy: 0.9558\n",
      "Epoch 18/25\n",
      "53/53 [==============================] - 1s 22ms/step - loss: 0.2031 - accuracy: 0.9431 - val_loss: 0.1624 - val_accuracy: 0.9577\n",
      "Epoch 19/25\n",
      "53/53 [==============================] - 1s 22ms/step - loss: 0.1987 - accuracy: 0.9445 - val_loss: 0.1590 - val_accuracy: 0.9582\n",
      "Epoch 20/25\n",
      "53/53 [==============================] - 1s 22ms/step - loss: 0.1942 - accuracy: 0.9453 - val_loss: 0.1548 - val_accuracy: 0.9598\n",
      "Epoch 21/25\n",
      "53/53 [==============================] - 1s 22ms/step - loss: 0.1900 - accuracy: 0.9469 - val_loss: 0.1528 - val_accuracy: 0.9602\n",
      "Epoch 22/25\n",
      "53/53 [==============================] - 1s 23ms/step - loss: 0.1862 - accuracy: 0.9479 - val_loss: 0.1507 - val_accuracy: 0.9623\n",
      "Epoch 23/25\n",
      "53/53 [==============================] - 1s 23ms/step - loss: 0.1824 - accuracy: 0.9492 - val_loss: 0.1476 - val_accuracy: 0.9635\n",
      "Epoch 24/25\n",
      "53/53 [==============================] - 1s 23ms/step - loss: 0.1790 - accuracy: 0.9502 - val_loss: 0.1451 - val_accuracy: 0.9632\n",
      "Epoch 25/25\n",
      "53/53 [==============================] - 1s 22ms/step - loss: 0.1756 - accuracy: 0.9512 - val_loss: 0.1422 - val_accuracy: 0.9635\n"
     ]
    }
   ],
   "source": [
    "history = model.fit(x_train, y_train, batch_size=1024, epochs=25, validation_split=0.1)"
   ]
  },
  {
   "cell_type": "code",
   "execution_count": 25,
   "metadata": {
    "colab": {
     "base_uri": "https://localhost:8080/"
    },
    "executionInfo": {
     "elapsed": 526,
     "status": "ok",
     "timestamp": 1667911651261,
     "user": {
      "displayName": "Bhalaji Nagarajan",
      "userId": "08128536337584225726"
     },
     "user_tz": -60
    },
    "id": "7c8ezZ4OPOz3",
    "outputId": "d0ad38d0-418e-4331-b4d9-f0169d86c295"
   },
   "outputs": [
    {
     "name": "stdout",
     "output_type": "stream",
     "text": [
      "dict_keys(['loss', 'accuracy', 'val_loss', 'val_accuracy'])\n"
     ]
    }
   ],
   "source": [
    "print(history.history.keys())"
   ]
  },
  {
   "cell_type": "markdown",
   "metadata": {
    "id": "mY4Lh9ILXj66"
   },
   "source": [
    "**Plot the loss function and the accuracy curves as before.**"
   ]
  },
  {
   "cell_type": "code",
   "execution_count": 26,
   "metadata": {
    "colab": {
     "base_uri": "https://localhost:8080/",
     "height": 281
    },
    "executionInfo": {
     "elapsed": 5,
     "status": "ok",
     "timestamp": 1667911653349,
     "user": {
      "displayName": "Bhalaji Nagarajan",
      "userId": "08128536337584225726"
     },
     "user_tz": -60
    },
    "id": "_yHkKxn9XsTR",
    "outputId": "27479534-eab4-4760-f399-246841b8eebc"
   },
   "outputs": [
    {
     "data": {
      "image/png": "[encoded data removed]",
      "text/plain": [
       "<Figure size 640x480 with 2 Axes>"
      ]
     },
     "metadata": {},
     "output_type": "display_data"
    }
   ],
   "source": [
    "plt.subplot(211)\n",
    "plt.title('Cross Entropy Loss')\n",
    "plt.plot(history.history['loss'], color='blue', label='train')\n",
    "plt.plot(history.history['val_loss'], color='red', label='val')\n",
    "\n",
    "# plot accuracy\n",
    "plt.subplot(212)\n",
    "plt.title('Classification Accuracy')\n",
    "plt.plot(history.history['accuracy'], color='green', label='train')\n",
    "plt.plot(history.history['val_accuracy'], color='red', label='val')\n",
    "plt.show()"
   ]
  },
  {
   "cell_type": "markdown",
   "metadata": {
    "id": "Dc4OAmYxKnx2"
   },
   "source": [
    "**Print the loss and the test accuracy.**"
   ]
  },
  {
   "cell_type": "code",
   "execution_count": 27,
   "metadata": {
    "colab": {
     "base_uri": "https://localhost:8080/"
    },
    "executionInfo": {
     "elapsed": 681,
     "status": "ok",
     "timestamp": 1667911659942,
     "user": {
      "displayName": "Bhalaji Nagarajan",
      "userId": "08128536337584225726"
     },
     "user_tz": -60
    },
    "id": "EaCBLBnCuVqS",
    "outputId": "a9ec0947-db5d-40da-ec3e-ce67c973a940"
   },
   "outputs": [
    {
     "name": "stdout",
     "output_type": "stream",
     "text": [
      "313/313 [==============================] - 2s 6ms/step - loss: 0.1657 - accuracy: 0.9537\n",
      "Test loss: 0.1657279133796692\n",
      "Test accuracy: 0.9537000060081482\n"
     ]
    }
   ],
   "source": [
    "test_loss, test_acc = model.evaluate(x_test, y_test)\n",
    "print('Test loss:', test_loss)\n",
    "print('Test accuracy:', test_acc)"
   ]
  },
  {
   "cell_type": "markdown",
   "metadata": {
    "id": "aBgqZkJ7Kod0"
   },
   "source": [
    "**Print the confusion matrix for the test samples.**"
   ]
  },
  {
   "cell_type": "code",
   "execution_count": 28,
   "metadata": {
    "colab": {
     "base_uri": "https://localhost:8080/"
    },
    "executionInfo": {
     "elapsed": 681,
     "status": "ok",
     "timestamp": 1667911662814,
     "user": {
      "displayName": "Bhalaji Nagarajan",
      "userId": "08128536337584225726"
     },
     "user_tz": -60
    },
    "id": "kAuXj1yGuFI5",
    "outputId": "75d2df87-37e0-45c7-e925-4fc5bf37a75f"
   },
   "outputs": [
    {
     "name": "stdout",
     "output_type": "stream",
     "text": [
      " 91/313 [=======>......................] - ETA: 0s"
     ]
    },
    {
     "name": "stderr",
     "output_type": "stream",
     "text": [
      "2025-07-12 12:28:03.834898: I tensorflow/core/grappler/optimizers/custom_graph_optimizer_registry.cc:114] Plugin optimizer for device_type GPU is enabled.\n"
     ]
    },
    {
     "name": "stdout",
     "output_type": "stream",
     "text": [
      "313/313 [==============================] - 1s 2ms/step\n",
      "(10000, 10)\n"
     ]
    }
   ],
   "source": [
    "import numpy as np\n",
    "predictions = model.predict(x_test)\n",
    "\n",
    "print(predictions.shape)\n",
    "predictions = np.argmax(predictions, axis=1)"
   ]
  },
  {
   "cell_type": "code",
   "execution_count": 29,
   "metadata": {
    "colab": {
     "base_uri": "https://localhost:8080/"
    },
    "executionInfo": {
     "elapsed": 3,
     "status": "ok",
     "timestamp": 1667911664497,
     "user": {
      "displayName": "Bhalaji Nagarajan",
      "userId": "08128536337584225726"
     },
     "user_tz": -60
    },
    "id": "c-0N628nuO4K",
    "outputId": "ad2a7c8c-b226-4ba8-cc0b-6e874dc8122b"
   },
   "outputs": [
    {
     "data": {
      "text/plain": [
       "array([[ 965,    0,    1,    1,    0,    1,    6,    1,    5,    0],\n",
       "       [   0, 1121,    2,    1,    1,    1,    4,    0,    5,    0],\n",
       "       [   7,    1,  976,    8,   10,    1,    7,    7,   14,    1],\n",
       "       [   1,    0,   10,  960,    0,    9,    1,   10,   15,    4],\n",
       "       [   1,    1,    3,    0,  937,    0,    9,    3,    6,   22],\n",
       "       [   5,    3,    1,   18,    1,  832,   12,    2,    9,    9],\n",
       "       [   7,    3,    3,    0,    4,    9,  926,    3,    3,    0],\n",
       "       [   1,    6,   19,    6,    4,    0,    0,  963,    6,   23],\n",
       "       [   4,    3,    6,   15,    6,   12,    9,    5,  910,    4],\n",
       "       [   9,    7,    1,   14,   14,    4,    1,   10,    2,  947]])"
      ]
     },
     "execution_count": 29,
     "metadata": {},
     "output_type": "execute_result"
    }
   ],
   "source": [
    "confusion_matrix(gt, predictions)"
   ]
  },
  {
   "cell_type": "markdown",
   "metadata": {
    "id": "D-p2DMcsHOii"
   },
   "source": [
    "# **Clearing models**\n",
    "clear_session() is useful when you're creating multiple models in succession, such as during hyperparameter search or cross-validation. Each model that is trained adds nodes (potentially numbering in the thousands) to the graph. Clearing the session removes all the nodes left over from previous models, freeing memory and preventing slowdown."
   ]
  },
  {
   "cell_type": "code",
   "execution_count": 30,
   "metadata": {
    "executionInfo": {
     "elapsed": 10,
     "status": "ok",
     "timestamp": 1667911262298,
     "user": {
      "displayName": "Bhalaji Nagarajan",
      "userId": "08128536337584225726"
     },
     "user_tz": -60
    },
    "id": "WfWCHxh8HGhN"
   },
   "outputs": [],
   "source": [
    "from keras.backend import clear_session\n",
    "clear_session()"
   ]
  },
  {
   "cell_type": "markdown",
   "metadata": {},
   "source": [
    "### Thank you for following this tutorial !"
   ]
  }
 ],
 "metadata": {
  "accelerator": "GPU",
  "colab": {
   "collapsed_sections": [],
   "provenance": [
    {
     "file_id": "1Y4KQehPAgpZLItGPmW0tfLdq3nBrQDpH",
     "timestamp": 1576576215149
    }
   ]
  },
  "gpuClass": "standard",
  "kernelspec": {
   "display_name": "ironhack",
   "language": "python",
   "name": "python3"
  },
  "language_info": {
   "codemirror_mode": {
    "name": "ipython",
    "version": 3
   },
   "file_extension": ".py",
   "mimetype": "text/x-python",
   "name": "python",
   "nbconvert_exporter": "python",
   "pygments_lexer": "ipython3",
   "version": "3.9.23"
  }
 },
 "nbformat": 4,
 "nbformat_minor": 0
}
